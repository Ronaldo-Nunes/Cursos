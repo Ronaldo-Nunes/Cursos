{
 "cells": [
  {
   "cell_type": "markdown",
   "metadata": {},
   "source": [
    "# Projeto de análise de dados da COVID-19 no Brasil\n",
    "\n",
    "## DIO - Digital Innovation One\n",
    "\n",
    "### Ronaldo Nunes"
   ]
  },
  {
   "cell_type": "markdown",
   "metadata": {},
   "source": []
  }
 ],
 "metadata": {
  "kernelspec": {
   "display_name": "Python 3.9.12 ('base')",
   "language": "python",
   "name": "python3"
  },
  "language_info": {
   "name": "python",
   "version": "3.9.12"
  },
  "orig_nbformat": 4,
  "vscode": {
   "interpreter": {
    "hash": "a7ec6e62cfeca283a4b9792b2957ceb0888af4a776e9919c4ce8ec8a2a37c85e"
   }
  }
 },
 "nbformat": 4,
 "nbformat_minor": 2
}
